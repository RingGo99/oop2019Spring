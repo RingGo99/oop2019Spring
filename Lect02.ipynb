{
 "cells": [
  {
   "cell_type": "markdown",
   "metadata": {},
   "source": [
    "## 9장\n",
    "Java 기본 타입들\n",
    "* 숫자\n",
    "  * 정수\n",
    "    * byte (크기: 1 byte)\n",
    "    * short (크기: 2 byte)\n",
    "    * int (크기: 4 byte)\n",
    "    * long (크기: 8 byte)    \n",
    "  * 실수\n",
    "    * float (크기: 4 byte)\n",
    "    * double (크기: 8 byte) \n",
    "* 문자\n",
    "  * char (크기: 2byte)"
   ]
  },
  {
   "cell_type": "code",
   "execution_count": 1,
   "metadata": {},
   "outputs": [
    {
     "ename": "incompatible types",
     "evalue": " possible lossy conversion from int to byte",
     "output_type": "error",
     "traceback": [
      "\u001b[1;31mincompatible types: possible lossy conversion from int to byte\u001b[0;0m",
      "\u001b[1;31m byte b = -129\u001b[0;0m",
      "\u001b[1;31m          ^   ^ \u001b[0;0m"
     ]
    }
   ],
   "source": [
    "byte b = -129;"
   ]
  },
  {
   "cell_type": "code",
   "execution_count": 2,
   "metadata": {},
   "outputs": [
    {
     "data": {
      "text/plain": [
       "-128"
      ]
     },
     "execution_count": 2,
     "metadata": {},
     "output_type": "execute_result"
    }
   ],
   "source": [
    "byte b = -128;\n",
    "return b;"
   ]
  },
  {
   "cell_type": "code",
   "execution_count": 3,
   "metadata": {},
   "outputs": [
    {
     "data": {
      "text/plain": [
       "127"
      ]
     },
     "execution_count": 3,
     "metadata": {},
     "output_type": "execute_result"
    }
   ],
   "source": [
    "byte b = 127;\n",
    "return b;"
   ]
  },
  {
   "cell_type": "code",
   "execution_count": 4,
   "metadata": {},
   "outputs": [
    {
     "ename": "incompatible types",
     "evalue": " possible lossy conversion from int to byte",
     "output_type": "error",
     "traceback": [
      "\u001b[1;31mincompatible types: possible lossy conversion from int to byte\u001b[0;0m",
      "\u001b[1;31m byte b = 128\u001b[0;0m",
      "\u001b[1;31m          ^  ^ \u001b[0;0m"
     ]
    }
   ],
   "source": [
    "byte b = 128;"
   ]
  },
  {
   "cell_type": "code",
   "execution_count": 5,
   "metadata": {},
   "outputs": [
    {
     "data": {
      "text/plain": [
       "-32768"
      ]
     },
     "execution_count": 5,
     "metadata": {},
     "output_type": "execute_result"
    }
   ],
   "source": [
    "short i = - (2 << 2 << 2 << 2 << 2 << 2 << 2 << 2);\n",
    "return i;"
   ]
  },
  {
   "cell_type": "code",
   "execution_count": 6,
   "metadata": {},
   "outputs": [
    {
     "data": {
      "text/plain": [
       "-32769"
      ]
     },
     "execution_count": 6,
     "metadata": {},
     "output_type": "execute_result"
    }
   ],
   "source": [
    "return - (2 << 2 << 2 << 2 << 2 << 2 << 2 << 2) - 1;"
   ]
  },
  {
   "cell_type": "code",
   "execution_count": 7,
   "metadata": {},
   "outputs": [
    {
     "ename": "incompatible types",
     "evalue": " possible lossy conversion from int to short",
     "output_type": "error",
     "traceback": [
      "\u001b[1;31mincompatible types: possible lossy conversion from int to short\u001b[0;0m",
      "\u001b[1;31m short i = - (2 << 2 << 2 << 2 << 2 << 2 << 2 << 2) - 1\u001b[0;0m",
      "\u001b[1;31m           ^                                           ^ \u001b[0;0m"
     ]
    }
   ],
   "source": [
    "short i = - (2 << 2 << 2 << 2 << 2 << 2 << 2 << 2) - 1;"
   ]
  },
  {
   "cell_type": "code",
   "execution_count": 8,
   "metadata": {},
   "outputs": [
    {
     "data": {
      "text/plain": [
       "32768"
      ]
     },
     "execution_count": 8,
     "metadata": {},
     "output_type": "execute_result"
    }
   ],
   "source": [
    "return (2 << 2 << 2 << 2 << 2 << 2 << 2 << 2);"
   ]
  },
  {
   "cell_type": "code",
   "execution_count": 9,
   "metadata": {},
   "outputs": [
    {
     "ename": "incompatible types",
     "evalue": " possible lossy conversion from int to short",
     "output_type": "error",
     "traceback": [
      "\u001b[1;31mincompatible types: possible lossy conversion from int to short\u001b[0;0m",
      "\u001b[1;31m short i = (2 << 2 << 2 << 2 << 2 << 2 << 2 << 2)\u001b[0;0m",
      "\u001b[1;31m            ^                                   ^  \u001b[0;0m"
     ]
    }
   ],
   "source": [
    "short i = (2 << 2 << 2 << 2 << 2 << 2 << 2 << 2);"
   ]
  },
  {
   "cell_type": "code",
   "execution_count": 11,
   "metadata": {},
   "outputs": [
    {
     "data": {
      "text/plain": [
       "32767"
      ]
     },
     "execution_count": 11,
     "metadata": {},
     "output_type": "execute_result"
    }
   ],
   "source": [
    "short i = (2 << 2 << 2 << 2 << 2 << 2 << 2 << 2) - 1;\n",
    "return i;"
   ]
  },
  {
   "cell_type": "code",
   "execution_count": 12,
   "metadata": {},
   "outputs": [
    {
     "data": {
      "text/plain": [
       "a"
      ]
     },
     "execution_count": 12,
     "metadata": {},
     "output_type": "execute_result"
    }
   ],
   "source": [
    "char c1 = 'a';\n",
    "return c1;"
   ]
  },
  {
   "cell_type": "code",
   "execution_count": 13,
   "metadata": {},
   "outputs": [
    {
     "data": {
      "text/plain": [
       "한"
      ]
     },
     "execution_count": 13,
     "metadata": {},
     "output_type": "execute_result"
    }
   ],
   "source": [
    "char c2 = '한';\n",
    "return c2;"
   ]
  },
  {
   "cell_type": "markdown",
   "metadata": {},
   "source": [
    "## 10장"
   ]
  },
  {
   "cell_type": "code",
   "execution_count": 14,
   "metadata": {},
   "outputs": [
    {
     "ename": "incompatible types",
     "evalue": " possible lossy conversion from double to int",
     "output_type": "error",
     "traceback": [
      "\u001b[1;31mincompatible types: possible lossy conversion from double to int\u001b[0;0m",
      "\u001b[1;31m int a = 2.2\u001b[0;0m",
      "\u001b[1;31m         ^  ^ \u001b[0;0m"
     ]
    }
   ],
   "source": [
    "int a = 2.2;"
   ]
  },
  {
   "cell_type": "code",
   "execution_count": 15,
   "metadata": {},
   "outputs": [
    {
     "ename": "incompatible types",
     "evalue": " possible lossy conversion from double to float",
     "output_type": "error",
     "traceback": [
      "\u001b[1;31mincompatible types: possible lossy conversion from double to float\u001b[0;0m",
      "\u001b[1;31m float a = 2.2\u001b[0;0m",
      "\u001b[1;31m           ^  ^ \u001b[0;0m"
     ]
    }
   ],
   "source": [
    "float a = 2.2;"
   ]
  },
  {
   "cell_type": "code",
   "execution_count": 16,
   "metadata": {},
   "outputs": [
    {
     "data": {
      "text/plain": [
       "2.2"
      ]
     },
     "execution_count": 16,
     "metadata": {},
     "output_type": "execute_result"
    }
   ],
   "source": [
    "double a = 2.2; // 실수 상수는 기본적으로 double\n",
    "return a;"
   ]
  },
  {
   "cell_type": "code",
   "execution_count": 17,
   "metadata": {},
   "outputs": [
    {
     "data": {
      "text/plain": [
       "2.2"
      ]
     },
     "execution_count": 17,
     "metadata": {},
     "output_type": "execute_result"
    }
   ],
   "source": [
    "float a = 2.2F; // 끝에 F를 붙여주야 float\n",
    "return a;"
   ]
  },
  {
   "cell_type": "code",
   "execution_count": 18,
   "metadata": {},
   "outputs": [
    {
     "ename": "integer number too large",
     "evalue": "integer number too large",
     "output_type": "error",
     "traceback": [
      "\u001b[1;31minteger number too large\u001b[0;0m",
      "\u001b[1;31m int a = 2148493648\u001b[0;0m",
      "\u001b[1;31m         ^          \u001b[0;0m"
     ]
    }
   ],
   "source": [
    "int a = 2148493648;"
   ]
  },
  {
   "cell_type": "code",
   "execution_count": 19,
   "metadata": {},
   "outputs": [
    {
     "ename": "integer number too large",
     "evalue": "integer number too large",
     "output_type": "error",
     "traceback": [
      "\u001b[1;31minteger number too large\u001b[0;0m",
      "\u001b[1;31m long a = 2148493648\u001b[0;0m",
      "\u001b[1;31m          ^          \u001b[0;0m"
     ]
    }
   ],
   "source": [
    "long a = 2148493648; // 정수 상수는 기본적으로 int"
   ]
  },
  {
   "cell_type": "code",
   "execution_count": 20,
   "metadata": {},
   "outputs": [
    {
     "data": {
      "text/plain": [
       "2148493648"
      ]
     },
     "execution_count": 20,
     "metadata": {},
     "output_type": "execute_result"
    }
   ],
   "source": [
    "long a = 2148493648L; // 끝에 L을 붙여줘야 long\n",
    "return a;"
   ]
  },
  {
   "cell_type": "code",
   "execution_count": 21,
   "metadata": {},
   "outputs": [
    {
     "data": {
      "text/plain": [
       "100"
      ]
     },
     "execution_count": 21,
     "metadata": {},
     "output_type": "execute_result"
    }
   ],
   "source": [
    "byte a = 100; // 범위만 맞으면 int에서 byte로 변환 허용\n",
    "return a;"
   ]
  },
  {
   "cell_type": "code",
   "execution_count": 22,
   "metadata": {},
   "outputs": [
    {
     "ename": "incompatible types",
     "evalue": " possible lossy conversion from int to byte",
     "output_type": "error",
     "traceback": [
      "\u001b[1;31mincompatible types: possible lossy conversion from int to byte\u001b[0;0m",
      "\u001b[1;31m byte a = 129\u001b[0;0m",
      "\u001b[1;31m          ^  ^ \u001b[0;0m"
     ]
    }
   ],
   "source": [
    "byte a = 129;"
   ]
  },
  {
   "cell_type": "code",
   "execution_count": 23,
   "metadata": {},
   "outputs": [
    {
     "data": {
      "text/plain": [
       "30000"
      ]
     },
     "execution_count": 23,
     "metadata": {},
     "output_type": "execute_result"
    }
   ],
   "source": [
    "short s = 30000; // 범위만 맞으면 int에서 short로 변환 허용\n",
    "return s;"
   ]
  },
  {
   "cell_type": "code",
   "execution_count": 24,
   "metadata": {},
   "outputs": [
    {
     "ename": "incompatible types",
     "evalue": " possible lossy conversion from int to short",
     "output_type": "error",
     "traceback": [
      "\u001b[1;31mincompatible types: possible lossy conversion from int to short\u001b[0;0m",
      "\u001b[1;31m short s = 32768\u001b[0;0m",
      "\u001b[1;31m           ^    ^ \u001b[0;0m"
     ]
    }
   ],
   "source": [
    "short s = 32768;"
   ]
  },
  {
   "cell_type": "markdown",
   "metadata": {},
   "source": [
    "## 11장"
   ]
  },
  {
   "cell_type": "markdown",
   "metadata": {},
   "source": [
    "### 자동 (암시적) 형변환"
   ]
  },
  {
   "cell_type": "code",
   "execution_count": 25,
   "metadata": {},
   "outputs": [
    {
     "data": {
      "text/plain": [
       "3.0"
      ]
     },
     "execution_count": 25,
     "metadata": {},
     "output_type": "execute_result"
    }
   ],
   "source": [
    "double a = 3.0F;\n",
    "return a;"
   ]
  },
  {
   "cell_type": "code",
   "execution_count": null,
   "metadata": {},
   "outputs": [],
   "source": [
    "float a = 3.0;"
   ]
  },
  {
   "cell_type": "code",
   "execution_count": 26,
   "metadata": {},
   "outputs": [
    {
     "data": {
      "text/plain": [
       "99"
      ]
     },
     "execution_count": 26,
     "metadata": {},
     "output_type": "execute_result"
    }
   ],
   "source": [
    "int i = 'c';\n",
    "return i;"
   ]
  },
  {
   "cell_type": "code",
   "execution_count": 27,
   "metadata": {},
   "outputs": [
    {
     "data": {
      "text/plain": [
       "c"
      ]
     },
     "execution_count": 27,
     "metadata": {},
     "output_type": "execute_result"
    }
   ],
   "source": [
    "char c = 99; // 범위가 맞으면 변환 가능\n",
    "return c;"
   ]
  },
  {
   "cell_type": "code",
   "execution_count": 28,
   "metadata": {},
   "outputs": [
    {
     "ename": "incompatible types",
     "evalue": " possible lossy conversion from int to char",
     "output_type": "error",
     "traceback": [
      "\u001b[1;31mincompatible types: possible lossy conversion from int to char\u001b[0;0m",
      "\u001b[1;31m char c = 99999\u001b[0;0m",
      "\u001b[1;31m          ^    ^ \u001b[0;0m"
     ]
    }
   ],
   "source": [
    "char c = 99999;"
   ]
  },
  {
   "cell_type": "code",
   "execution_count": 31,
   "metadata": {},
   "outputs": [
    {
     "data": {
      "text/plain": [
       "4.099999904632568"
      ]
     },
     "execution_count": 31,
     "metadata": {},
     "output_type": "execute_result"
    }
   ],
   "source": [
    "int a = 3;\n",
    "float b = 1.1F;\n",
    "double c = a + b;\n",
    "return c;"
   ]
  },
  {
   "cell_type": "code",
   "execution_count": 33,
   "metadata": {},
   "outputs": [
    {
     "data": {
      "text/plain": [
       "1.0"
      ]
     },
     "execution_count": 33,
     "metadata": {},
     "output_type": "execute_result"
    }
   ],
   "source": [
    "return 0.00001 * 100000;"
   ]
  },
  {
   "cell_type": "code",
   "execution_count": 36,
   "metadata": {},
   "outputs": [
    {
     "data": {
      "text/plain": [
       "1.000000000007918"
      ]
     },
     "execution_count": 36,
     "metadata": {},
     "output_type": "execute_result"
    }
   ],
   "source": [
    "double v = 0;\n",
    "for (int i=0; i<1000000;++i)\n",
    "    v = v + 0.000001;\n",
    "return v;"
   ]
  },
  {
   "cell_type": "markdown",
   "metadata": {},
   "source": [
    "### 명시적 형변환"
   ]
  },
  {
   "cell_type": "code",
   "execution_count": 37,
   "metadata": {},
   "outputs": [
    {
     "ename": "incompatible types",
     "evalue": " possible lossy conversion from double to float",
     "output_type": "error",
     "traceback": [
      "\u001b[1;31mincompatible types: possible lossy conversion from double to float\u001b[0;0m",
      "\u001b[1;31m float a = 100.0\u001b[0;0m",
      "\u001b[1;31m           ^    ^ \u001b[0;0m",
      "\u001b[1;31m\u001b[0;0m",
      "\u001b[1;31mincompatible types: possible lossy conversion from float to int\u001b[0;0m",
      "\u001b[1;31m int b = 100.0F\u001b[0;0m",
      "\u001b[1;31m         ^     ^ \u001b[0;0m"
     ]
    }
   ],
   "source": [
    "float a = 100.0;\n",
    "int b = 100.0F;"
   ]
  },
  {
   "cell_type": "code",
   "execution_count": 38,
   "metadata": {},
   "outputs": [
    {
     "data": {
      "text/plain": [
       "null"
      ]
     },
     "execution_count": 38,
     "metadata": {},
     "output_type": "execute_result"
    }
   ],
   "source": [
    "float a = (float) 100.0;\n",
    "int b = (int) 100.0F;"
   ]
  },
  {
   "cell_type": "markdown",
   "metadata": {},
   "source": [
    "## 12장\n",
    "자습하세요."
   ]
  },
  {
   "cell_type": "markdown",
   "metadata": {},
   "source": [
    "## 13장"
   ]
  },
  {
   "cell_type": "code",
   "execution_count": 39,
   "metadata": {},
   "outputs": [
    {
     "data": {
      "text/plain": [
       "true"
      ]
     },
     "execution_count": 39,
     "metadata": {},
     "output_type": "execute_result"
    }
   ],
   "source": [
    "boolean b = true;\n",
    "return b;"
   ]
  },
  {
   "cell_type": "code",
   "execution_count": 40,
   "metadata": {},
   "outputs": [
    {
     "data": {
      "text/plain": [
       "false"
      ]
     },
     "execution_count": 40,
     "metadata": {},
     "output_type": "execute_result"
    }
   ],
   "source": [
    "boolean b = false;\n",
    "return b;"
   ]
  },
  {
   "cell_type": "code",
   "execution_count": 41,
   "metadata": {},
   "outputs": [
    {
     "data": {
      "text/plain": [
       "true"
      ]
     },
     "execution_count": 41,
     "metadata": {},
     "output_type": "execute_result"
    }
   ],
   "source": [
    "return true == true;"
   ]
  },
  {
   "cell_type": "code",
   "execution_count": 43,
   "metadata": {},
   "outputs": [
    {
     "data": {
      "text/plain": [
       "true"
      ]
     },
     "execution_count": 43,
     "metadata": {},
     "output_type": "execute_result"
    }
   ],
   "source": [
    "return false == false;"
   ]
  },
  {
   "cell_type": "code",
   "execution_count": 44,
   "metadata": {},
   "outputs": [
    {
     "data": {
      "text/plain": [
       "false"
      ]
     },
     "execution_count": 44,
     "metadata": {},
     "output_type": "execute_result"
    }
   ],
   "source": [
    "return true == false;"
   ]
  },
  {
   "cell_type": "code",
   "execution_count": 45,
   "metadata": {},
   "outputs": [
    {
     "data": {
      "text/plain": [
       "true"
      ]
     },
     "execution_count": 45,
     "metadata": {},
     "output_type": "execute_result"
    }
   ],
   "source": [
    "return true != false;"
   ]
  },
  {
   "cell_type": "code",
   "execution_count": 46,
   "metadata": {},
   "outputs": [
    {
     "ename": "bad operand types for binary operator '>'",
     "evalue": "bad operand types for binary operator '>'",
     "output_type": "error",
     "traceback": [
      "\u001b[1;31mbad operand types for binary operator '>'\u001b[0;0m",
      "\u001b[1;31m  first type:  boolean\u001b[0;0m",
      "\u001b[1;31m  second type: boolean\u001b[0;0m",
      "\u001b[1;31m return true > false\u001b[0;0m",
      "\u001b[1;31m        ^           ^ \u001b[0;0m"
     ]
    }
   ],
   "source": [
    "return true > false;"
   ]
  },
  {
   "cell_type": "code",
   "execution_count": 47,
   "metadata": {},
   "outputs": [
    {
     "data": {
      "text/plain": [
       "false"
      ]
     },
     "execution_count": 47,
     "metadata": {},
     "output_type": "execute_result"
    }
   ],
   "source": [
    "return 2 > 2;"
   ]
  },
  {
   "cell_type": "code",
   "execution_count": 48,
   "metadata": {},
   "outputs": [
    {
     "data": {
      "text/plain": [
       "true"
      ]
     },
     "execution_count": 48,
     "metadata": {},
     "output_type": "execute_result"
    }
   ],
   "source": [
    "return 2 >= 2;"
   ]
  },
  {
   "cell_type": "code",
   "execution_count": 49,
   "metadata": {},
   "outputs": [
    {
     "data": {
      "text/plain": [
       "true"
      ]
     },
     "execution_count": 49,
     "metadata": {},
     "output_type": "execute_result"
    }
   ],
   "source": [
    "return \"abc\" == \"abc\";"
   ]
  },
  {
   "cell_type": "code",
   "execution_count": 50,
   "metadata": {},
   "outputs": [
    {
     "data": {
      "text/plain": [
       "true"
      ]
     },
     "execution_count": 50,
     "metadata": {},
     "output_type": "execute_result"
    }
   ],
   "source": [
    "return \"abc\".equals(\"abc\");"
   ]
  },
  {
   "cell_type": "code",
   "execution_count": 53,
   "metadata": {},
   "outputs": [
    {
     "ename": "bad operand types for binary operator '<'",
     "evalue": "bad operand types for binary operator '<'",
     "output_type": "error",
     "traceback": [
      "\u001b[1;31mbad operand types for binary operator '<'\u001b[0;0m",
      "\u001b[1;31m  first type:  java.lang.String\u001b[0;0m",
      "\u001b[1;31m  second type: java.lang.String\u001b[0;0m",
      "\u001b[1;31m return \"abc\" < \"adc\"\u001b[0;0m",
      "\u001b[1;31m        ^            ^ \u001b[0;0m"
     ]
    }
   ],
   "source": [
    "return \"abc\" < \"adc\";"
   ]
  },
  {
   "cell_type": "code",
   "execution_count": 54,
   "metadata": {},
   "outputs": [
    {
     "data": {
      "text/plain": [
       "true"
      ]
     },
     "execution_count": 54,
     "metadata": {},
     "output_type": "execute_result"
    }
   ],
   "source": [
    "int x = 1;\n",
    "int y = 1;\n",
    "return x == y;"
   ]
  },
  {
   "cell_type": "markdown",
   "metadata": {},
   "source": [
    "![02.JPG](https://kyagrd.github.io/oop2019Spring/02.JPG)"
   ]
  },
  {
   "cell_type": "code",
   "execution_count": 56,
   "metadata": {},
   "outputs": [
    {
     "data": {
      "text/plain": [
       "true"
      ]
     },
     "execution_count": 56,
     "metadata": {},
     "output_type": "execute_result"
    }
   ],
   "source": [
    "String a = \"Hello world\";\n",
    "String b = a;\n",
    "return a == b;"
   ]
  },
  {
   "cell_type": "markdown",
   "metadata": {},
   "source": [
    "![01.JPG](https://kyagrd.github.io/oop2019Spring/01.JPG)"
   ]
  },
  {
   "cell_type": "code",
   "execution_count": 52,
   "metadata": {},
   "outputs": [
    {
     "name": "stdout",
     "output_type": "stream",
     "text": [
      "false\n",
      "true\n",
      "true\n",
      "true\n",
      "true\n",
      "true\n"
     ]
    },
    {
     "data": {
      "text/plain": [
       "null"
      ]
     },
     "execution_count": 52,
     "metadata": {},
     "output_type": "execute_result"
    }
   ],
   "source": [
    "String a = \"Hello world\";\n",
    "String b = new String(a);\n",
    "System.out.println( a == b );\n",
    "System.out.println( a == a );\n",
    "System.out.println( b == b );\n",
    "System.out.println( a.equals(b) );\n",
    "System.out.println( a.equals(a) );\n",
    "System.out.println( b.equals(b) );"
   ]
  },
  {
   "cell_type": "markdown",
   "metadata": {},
   "source": [
    "## 14장"
   ]
  },
  {
   "cell_type": "code",
   "execution_count": 62,
   "metadata": {},
   "outputs": [
    {
     "name": "stdout",
     "output_type": "stream",
     "text": [
      "100\n",
      "0\n"
     ]
    },
    {
     "data": {
      "text/plain": [
       "null"
      ]
     },
     "execution_count": 62,
     "metadata": {},
     "output_type": "execute_result"
    }
   ],
   "source": [
    "if (true) { System.out.println(100); }\n",
    "\n",
    "System.out.println(0);"
   ]
  },
  {
   "cell_type": "code",
   "execution_count": 63,
   "metadata": {},
   "outputs": [
    {
     "name": "stdout",
     "output_type": "stream",
     "text": [
      "0\n"
     ]
    },
    {
     "data": {
      "text/plain": [
       "null"
      ]
     },
     "execution_count": 63,
     "metadata": {},
     "output_type": "execute_result"
    }
   ],
   "source": [
    "if (false) { System.out.println(100); }\n",
    "\n",
    "System.out.println(0);"
   ]
  },
  {
   "cell_type": "code",
   "execution_count": 64,
   "metadata": {},
   "outputs": [
    {
     "data": {
      "text/plain": [
       "-1"
      ]
     },
     "execution_count": 64,
     "metadata": {},
     "output_type": "execute_result"
    }
   ],
   "source": [
    "int x;\n",
    "\n",
    "// if (true) { x = 1; } else { x = -1; }\n",
    "if (false) { x = 1; } else { x = -1; }\n",
    "\n",
    "return x;"
   ]
  },
  {
   "cell_type": "code",
   "execution_count": 65,
   "metadata": {},
   "outputs": [
    {
     "data": {
      "text/plain": [
       "2"
      ]
     },
     "execution_count": 65,
     "metadata": {},
     "output_type": "execute_result"
    }
   ],
   "source": [
    "boolean b1 = false;\n",
    "boolean b2 = true;\n",
    "if (b1) {\n",
    "    return 1;\n",
    "} else if (b2) {\n",
    "    return 2;\n",
    "} else {\n",
    "    return 3;\n",
    "}"
   ]
  },
  {
   "cell_type": "code",
   "execution_count": 67,
   "metadata": {},
   "outputs": [
    {
     "name": "stdout",
     "output_type": "stream",
     "text": [
      "1이 2보다 작다.\n"
     ]
    },
    {
     "data": {
      "text/plain": [
       "null"
      ]
     },
     "execution_count": 67,
     "metadata": {},
     "output_type": "execute_result"
    }
   ],
   "source": [
    "if (1 < 2) {\n",
    "    System.out.println(\"1이 2보다 작다.\");\n",
    "}"
   ]
  },
  {
   "cell_type": "code",
   "execution_count": 72,
   "metadata": {},
   "outputs": [
    {
     "name": "stdout",
     "output_type": "stream",
     "text": [
      "a == b\n"
     ]
    },
    {
     "data": {
      "text/plain": [
       "null"
      ]
     },
     "execution_count": 72,
     "metadata": {},
     "output_type": "execute_result"
    }
   ],
   "source": [
    "String a = \"Hello world\";\n",
    "String b = a;\n",
    "// String b = new String(a);\n",
    "if (a == b) {\n",
    "    System.out.println(\"a == b\");\n",
    "} else if (a != b) {\n",
    "    System.out.println(\"a != b\");    \n",
    "}"
   ]
  },
  {
   "cell_type": "code",
   "execution_count": 73,
   "metadata": {},
   "outputs": [
    {
     "data": {
      "text/plain": [
       "true"
      ]
     },
     "execution_count": 73,
     "metadata": {},
     "output_type": "execute_result"
    }
   ],
   "source": [
    "return (1 < 2) && (2 < 3);"
   ]
  },
  {
   "cell_type": "code",
   "execution_count": 74,
   "metadata": {},
   "outputs": [
    {
     "data": {
      "text/plain": [
       "true"
      ]
     },
     "execution_count": 74,
     "metadata": {},
     "output_type": "execute_result"
    }
   ],
   "source": [
    "return true || false;"
   ]
  },
  {
   "cell_type": "code",
   "execution_count": 75,
   "metadata": {},
   "outputs": [
    {
     "data": {
      "text/plain": [
       "false"
      ]
     },
     "execution_count": 75,
     "metadata": {},
     "output_type": "execute_result"
    }
   ],
   "source": [
    "return ! true;"
   ]
  },
  {
   "cell_type": "markdown",
   "metadata": {},
   "source": [
    "## 15장"
   ]
  },
  {
   "cell_type": "code",
   "execution_count": 82,
   "metadata": {},
   "outputs": [
    {
     "name": "stdout",
     "output_type": "stream",
     "text": [
      "case 2\n"
     ]
    },
    {
     "data": {
      "text/plain": [
       "null"
      ]
     },
     "execution_count": 82,
     "metadata": {},
     "output_type": "execute_result"
    }
   ],
   "source": [
    "int x = 2;\n",
    "switch (x) {\n",
    "    case 1:\n",
    "        System.out.println(\"case 1\");\n",
    "        break;\n",
    "    case 2:\n",
    "        System.out.println(\"case 2\");\n",
    "        break;\n",
    "    case 3:\n",
    "        System.out.println(\"case 3\");\n",
    "        break;\n",
    "    default:\n",
    "        System.out.println(\"default\");\n",
    "}"
   ]
  },
  {
   "cell_type": "code",
   "execution_count": null,
   "metadata": {},
   "outputs": [],
   "source": []
  }
 ],
 "metadata": {
  "kernelspec": {
   "display_name": "Java",
   "language": "java",
   "name": "java"
  },
  "language_info": {
   "codemirror_mode": "text/x-java",
   "file_extension": ".java",
   "mimetype": "",
   "name": "Java",
   "nbconverter_exporter": "",
   "version": "11.0.1"
  },
  "toc": {
   "base_numbering": 1,
   "nav_menu": {},
   "number_sections": false,
   "sideBar": false,
   "skip_h1_title": false,
   "title_cell": "Table of Contents",
   "title_sidebar": "Contents",
   "toc_cell": false,
   "toc_position": {},
   "toc_section_display": false,
   "toc_window_display": false
  }
 },
 "nbformat": 4,
 "nbformat_minor": 2
}
