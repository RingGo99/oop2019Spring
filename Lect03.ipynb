{
 "cells": [
  {
   "cell_type": "markdown",
   "metadata": {},
   "source": [
    "# 16 반복문, 17 배열"
   ]
  },
  {
   "cell_type": "code",
   "execution_count": null,
   "metadata": {},
   "outputs": [],
   "source": [
    "// p. 183 예제  (무한루프 실행시키지 마세요 웬만하면)\n",
    "public class WhileDemo {\n",
    "    public static void main(String[] args) {\n",
    "        while (true) {\n",
    "            System.out.println(\"Coding Everybody\");\n",
    "        }\n",
    "    }\n",
    "}"
   ]
  },
  {
   "cell_type": "code",
   "execution_count": null,
   "metadata": {},
   "outputs": [],
   "source": [
    "WhileDemo.main(null);"
   ]
  },
  {
   "cell_type": "code",
   "execution_count": 1,
   "metadata": {},
   "outputs": [
    {
     "name": "stdout",
     "output_type": "stream",
     "text": [
      "Coding Everybody\n",
      "Coding Everybody\n",
      "Coding Everybody\n",
      "Coding Everybody\n",
      "Coding Everybody\n",
      "Coding Everybody\n",
      "Coding Everybody\n",
      "Coding Everybody\n",
      "Coding Everybody\n",
      "Coding Everybody\n"
     ]
    },
    {
     "data": {
      "text/plain": [
       "null"
      ]
     },
     "execution_count": 1,
     "metadata": {},
     "output_type": "execute_result"
    }
   ],
   "source": [
    "int i = 0; \n",
    "while (i < 10) {\n",
    "    System.out.println(\"Coding Everybody\");\n",
    "    ++i;\n",
    "}"
   ]
  },
  {
   "cell_type": "code",
   "execution_count": 2,
   "metadata": {},
   "outputs": [
    {
     "name": "stdout",
     "output_type": "stream",
     "text": [
      "Coding Everybody\n",
      "Coding Everybody\n",
      "Coding Everybody\n",
      "Coding Everybody\n",
      "Coding Everybody\n",
      "Coding Everybody\n",
      "Coding Everybody\n",
      "Coding Everybody\n",
      "Coding Everybody\n",
      "Coding Everybody\n"
     ]
    },
    {
     "data": {
      "text/plain": [
       "null"
      ]
     },
     "execution_count": 2,
     "metadata": {},
     "output_type": "execute_result"
    }
   ],
   "source": [
    "for (int i = 0; i < 10; ++i) {\n",
    "    System.out.println(\"Coding Everybody\");\n",
    "}"
   ]
  },
  {
   "cell_type": "code",
   "execution_count": 17,
   "metadata": {},
   "outputs": [
    {
     "name": "stdout",
     "output_type": "stream",
     "text": [
      "hello\n",
      "world\n",
      "bye\n"
     ]
    },
    {
     "data": {
      "text/plain": [
       "null"
      ]
     },
     "execution_count": 17,
     "metadata": {},
     "output_type": "execute_result"
    }
   ],
   "source": [
    "String[] args = {\"hello\", \"world\", \"bye\"};\n",
    "//return args.length;\n",
    "for (int i = 0; i < args.length; ++i) {\n",
    "    System.out.println(args[i]);\n",
    "}"
   ]
  },
  {
   "cell_type": "code",
   "execution_count": 6,
   "metadata": {},
   "outputs": [
    {
     "data": {
      "text/plain": [
       "com.twosigma.beaker.javash.bkra55cea2f.ForDemo"
      ]
     },
     "execution_count": 6,
     "metadata": {},
     "output_type": "execute_result"
    }
   ],
   "source": [
    "public class ForDemo {\n",
    "    public static void main(String[] args) {\n",
    "        for (int i = 0; i < args.length; ++i) {\n",
    "            System.out.println(args[i]);\n",
    "        }\n",
    "    }\n",
    "}"
   ]
  },
  {
   "cell_type": "code",
   "execution_count": 51,
   "metadata": {},
   "outputs": [
    {
     "name": "stdout",
     "output_type": "stream",
     "text": [
      "aaa\n",
      "bbb\n",
      "cc\n",
      "dd\n"
     ]
    },
    {
     "data": {
      "text/plain": [
       "null"
      ]
     },
     "execution_count": 51,
     "metadata": {},
     "output_type": "execute_result"
    }
   ],
   "source": [
    "// 19장 p.247,  p.255 (for-each 사용) 내용 관련\n",
    "String[] as = {\"aaa\",\"bbb\",\"cc\",\"dd\"};\n",
    "ForDemo.main(as);"
   ]
  },
  {
   "cell_type": "markdown",
   "metadata": {},
   "source": [
    "### break, coninute, 다중 반복문은 자습\n",
    "... ..."
   ]
  },
  {
   "cell_type": "markdown",
   "metadata": {},
   "source": [
    "### 17-05 (p.214) for-each"
   ]
  },
  {
   "cell_type": "code",
   "execution_count": 14,
   "metadata": {},
   "outputs": [
    {
     "name": "stdout",
     "output_type": "stream",
     "text": [
      "hello\n",
      "world\n",
      "bye\n"
     ]
    },
    {
     "data": {
      "text/plain": [
       "null"
      ]
     },
     "execution_count": 14,
     "metadata": {},
     "output_type": "execute_result"
    }
   ],
   "source": [
    "String[] args = {\"hello\", \"world\", \"bye\"};\n",
    "\n",
    "for (String e : args) {\n",
    "    System.out.println(e);\n",
    "}"
   ]
  },
  {
   "cell_type": "code",
   "execution_count": 15,
   "metadata": {},
   "outputs": [
    {
     "name": "stdout",
     "output_type": "stream",
     "text": [
      "hello\n",
      "world\n",
      "bye\n"
     ]
    },
    {
     "data": {
      "text/plain": [
       "null"
      ]
     },
     "execution_count": 15,
     "metadata": {},
     "output_type": "execute_result"
    }
   ],
   "source": [
    "// 위 코드와 같은 전통적인 형식의 for 문\n",
    "String[] args = {\"hello\", \"world\", \"bye\"};\n",
    "\n",
    "for (int i = 0; i < args.length; ++i) {\n",
    "    System.out.println(args[i]);\n",
    "}"
   ]
  },
  {
   "cell_type": "markdown",
   "metadata": {},
   "source": [
    "# 18 메소드 (멤버 함수)"
   ]
  },
  {
   "cell_type": "code",
   "execution_count": 24,
   "metadata": {},
   "outputs": [
    {
     "data": {
      "text/plain": [
       "com.twosigma.beaker.javash.bkra55cea2f.Demo"
      ]
     },
     "execution_count": 24,
     "metadata": {},
     "output_type": "execute_result"
    }
   ],
   "source": [
    "public class Demo {\n",
    "    public static int max3(int a, int b, int c) {\n",
    "        if (a > b) {\n",
    "            if (a > c) { return a; }\n",
    "            else { return c; }\n",
    "        } else {\n",
    "            if (b > c) { return b; }\n",
    "            else { return c; }\n",
    "        }\n",
    "    }\n",
    "    public static void main(String[] args) {\n",
    "        System.out.println(\"hello\");\n",
    "        return; // 책에는 ;이 빠져 있는데\n",
    "        // 그러면 에러가 나는 거 같다.\n",
    "    }\n",
    "}"
   ]
  },
  {
   "cell_type": "code",
   "execution_count": 26,
   "metadata": {},
   "outputs": [
    {
     "name": "stdout",
     "output_type": "stream",
     "text": [
      "hello\n",
      "hello\n"
     ]
    },
    {
     "data": {
      "text/plain": [
       "null"
      ]
     },
     "execution_count": 26,
     "metadata": {},
     "output_type": "execute_result"
    }
   ],
   "source": [
    "Demo.main(null);\n",
    "Demo.main(null);"
   ]
  },
  {
   "cell_type": "code",
   "execution_count": 27,
   "metadata": {},
   "outputs": [
    {
     "data": {
      "text/plain": [
       "1"
      ]
     },
     "execution_count": 27,
     "metadata": {},
     "output_type": "execute_result"
    }
   ],
   "source": [
    "return Demo.max3(1,1,1);"
   ]
  },
  {
   "cell_type": "code",
   "execution_count": 28,
   "metadata": {},
   "outputs": [
    {
     "data": {
      "text/plain": [
       "3"
      ]
     },
     "execution_count": 28,
     "metadata": {},
     "output_type": "execute_result"
    }
   ],
   "source": [
    "return Demo.max3(1,2,3);"
   ]
  },
  {
   "cell_type": "code",
   "execution_count": 29,
   "metadata": {},
   "outputs": [
    {
     "data": {
      "text/plain": [
       "3"
      ]
     },
     "execution_count": 29,
     "metadata": {},
     "output_type": "execute_result"
    }
   ],
   "source": [
    "return Demo.max3(1,1,3);"
   ]
  },
  {
   "cell_type": "code",
   "execution_count": 30,
   "metadata": {},
   "outputs": [
    {
     "data": {
      "text/plain": [
       "3"
      ]
     },
     "execution_count": 30,
     "metadata": {},
     "output_type": "execute_result"
    }
   ],
   "source": [
    "return Demo.max3(1,3,1);"
   ]
  },
  {
   "cell_type": "code",
   "execution_count": 31,
   "metadata": {},
   "outputs": [
    {
     "data": {
      "text/plain": [
       "3"
      ]
     },
     "execution_count": 31,
     "metadata": {},
     "output_type": "execute_result"
    }
   ],
   "source": [
    "return Demo.max3(3,3,1);"
   ]
  },
  {
   "cell_type": "code",
   "execution_count": 32,
   "metadata": {},
   "outputs": [
    {
     "data": {
      "text/plain": [
       "4"
      ]
     },
     "execution_count": 32,
     "metadata": {},
     "output_type": "execute_result"
    }
   ],
   "source": [
    "return Demo.max3(4,3,1);"
   ]
  },
  {
   "cell_type": "code",
   "execution_count": 41,
   "metadata": {},
   "outputs": [
    {
     "data": {
      "text/plain": [
       "com.twosigma.beaker.javash.bkra55cea2f.Demo2"
      ]
     },
     "execution_count": 41,
     "metadata": {},
     "output_type": "execute_result"
    }
   ],
   "source": [
    "public class Demo2 {\n",
    "    private static int f(int x) { return x; }\n",
    "    \n",
    "    // public 은 생략이 가능하다\n",
    "    static int max3(int a, int b, int c) {\n",
    "        if (a > b) {\n",
    "            if (a > c) { return a; }\n",
    "            else { return c; }\n",
    "        } else {\n",
    "            if (b > c) { return b; }\n",
    "            else { return c; }\n",
    "        }\n",
    "    }\n",
    "    public static void main(String[] args) {\n",
    "        System.out.println(\"hello\");\n",
    "        System.out.println(3);\n",
    "        System.out.println( f(3) );        \n",
    "        return; // 책에는 ;이 빠져 있는데\n",
    "        // 그러면 에러가 나는 거 같다.\n",
    "    }\n",
    "}"
   ]
  },
  {
   "cell_type": "code",
   "execution_count": 42,
   "metadata": {},
   "outputs": [
    {
     "name": "stdout",
     "output_type": "stream",
     "text": [
      "hello\n",
      "3\n",
      "3\n"
     ]
    },
    {
     "data": {
      "text/plain": [
       "null"
      ]
     },
     "execution_count": 42,
     "metadata": {},
     "output_type": "execute_result"
    }
   ],
   "source": [
    "Demo2.main(null);"
   ]
  },
  {
   "cell_type": "code",
   "execution_count": 43,
   "metadata": {},
   "outputs": [
    {
     "data": {
      "text/plain": [
       "null"
      ]
     },
     "execution_count": 43,
     "metadata": {},
     "output_type": "execute_result"
    }
   ],
   "source": [
    "Demo2.max3(1,2,3);"
   ]
  },
  {
   "cell_type": "code",
   "execution_count": 44,
   "metadata": {},
   "outputs": [
    {
     "ename": "f(int) has private access in com.twosigma.beaker.javash.bkra55cea2f.Demo2",
     "evalue": "f(int) has private access in com.twosigma.beaker.javash.bkra55cea2f.Demo2",
     "output_type": "error",
     "traceback": [
      "\u001b[0;31mf(int) has private access in com.twosigma.beaker.javash.bkra55cea2f.Demo2\u001b[0;0m",
      "\u001b[0;31m Demo2.f(3)\u001b[0;0m",
      "\u001b[0;31m ^      ^    \u001b[0;0m"
     ]
    }
   ],
   "source": [
    "Demo2.f(3);"
   ]
  },
  {
   "cell_type": "code",
   "execution_count": 49,
   "metadata": {},
   "outputs": [
    {
     "data": {
      "text/plain": [
       "com.twosigma.beaker.javash.bkra55cea2f.Demo3"
      ]
     },
     "execution_count": 49,
     "metadata": {},
     "output_type": "execute_result"
    }
   ],
   "source": [
    "public class Demo3 {\n",
    "    private int f(int x) { return x; }\n",
    "    \n",
    "    private static int max3(int a, int b, int c) {\n",
    "        if (a > b) {\n",
    "            if (a > c) { return a; }\n",
    "            else { return c; }\n",
    "        } else {\n",
    "            if (b > c) { return b; }\n",
    "            else { return c; }\n",
    "        }\n",
    "    }\n",
    "    public static void main(String[] args) {\n",
    "        System.out.println(\"hello\");\n",
    "        System.out.println(3);\n",
    "        System.out.println(max3(1,2,4));\n",
    "        // static 메소드에서 non-static 메소드를 쓰려면\n",
    "        // System.out.println( f(3) ); // error 발생  \n",
    "        return;\n",
    "    }\n",
    "}"
   ]
  },
  {
   "cell_type": "code",
   "execution_count": 48,
   "metadata": {},
   "outputs": [
    {
     "name": "stdout",
     "output_type": "stream",
     "text": [
      "hello\n",
      "3\n",
      "4\n"
     ]
    },
    {
     "data": {
      "text/plain": [
       "null"
      ]
     },
     "execution_count": 48,
     "metadata": {},
     "output_type": "execute_result"
    }
   ],
   "source": [
    "Demo3.main(null);"
   ]
  },
  {
   "cell_type": "markdown",
   "metadata": {},
   "source": [
    "# 19 입출력\n",
    "책 내용 중 `System.in`을 사용하는 키보드 입력은 이 수업에서는 건너뛰겠습니다 (04, 05절). 왜냐하면 beakerx에서 지원하지 않기 때문. 대신 파일 입력만 다루도록 합니다."
   ]
  },
  {
   "cell_type": "markdown",
   "metadata": {},
   "source": [
    "## 19-06 다양한 입출력 (주로 파일 관련)"
   ]
  },
  {
   "cell_type": "code",
   "execution_count": 60,
   "metadata": {},
   "outputs": [
    {
     "name": "stdout",
     "output_type": "stream",
     "text": [
      "1234000\n",
      "123000\n"
     ]
    },
    {
     "data": {
      "text/plain": [
       "null"
      ]
     },
     "execution_count": 60,
     "metadata": {},
     "output_type": "execute_result"
    }
   ],
   "source": [
    "import java.util.Scanner;\n",
    "import java.io.*;\n",
    "\n",
    "try {\n",
    "    File file = new File(\"out.txt\");\n",
    "    Scanner sc = new Scanner(file);\n",
    "    while ( sc.hasNextInt() ) {\n",
    "        int n = sc.nextInt();\n",
    "        System.out.println( n*1000 );\n",
    "    }\n",
    "    sc.close();\n",
    "} catch(FileNotFoundException e) {\n",
    "    // System.out.println(\"메롱@!\");\n",
    "    e.printStackTrace();\n",
    "}"
   ]
  },
  {
   "cell_type": "code",
   "execution_count": 65,
   "metadata": {},
   "outputs": [
    {
     "name": "stderr",
     "output_type": "stream",
     "text": [
      "java.lang.ArrayIndexOutOfBoundsException: Index 3 out of bounds for length 2\n",
      "\tat com.twosigma.beaker.javash.bkra55cea2f.BeakerWrapperClass1261714175Idd24b1eeff3e9499987b91a8729bbb12c.beakerRun(BeakerWrapperClass1261714175Idd24b1eeff3e9499987b91a8729bbb12c.java:35)\n",
      "\tat java.base/jdk.internal.reflect.NativeMethodAccessorImpl.invoke0(Native Method)\n",
      "\tat java.base/jdk.internal.reflect.NativeMethodAccessorImpl.invoke(NativeMethodAccessorImpl.java:62)\n",
      "\tat java.base/jdk.internal.reflect.DelegatingMethodAccessorImpl.invoke(DelegatingMethodAccessorImpl.java:43)\n",
      "\tat java.base/java.lang.reflect.Method.invoke(Method.java:566)\n",
      "\tat com.twosigma.beakerx.javash.evaluator.JavaCodeRunner.compileAndRunCode(JavaCodeRunner.java:121)\n",
      "\tat com.twosigma.beakerx.javash.evaluator.JavaCodeRunner.compileCode(JavaCodeRunner.java:99)\n",
      "\tat com.twosigma.beakerx.javash.evaluator.JavaCodeRunner.runCode(JavaCodeRunner.java:84)\n",
      "\tat com.twosigma.beakerx.javash.evaluator.JavaCodeRunner.call(JavaCodeRunner.java:58)\n",
      "\tat com.twosigma.beakerx.javash.evaluator.JavaCodeRunner.call(JavaCodeRunner.java:39)\n",
      "\tat java.base/java.util.concurrent.FutureTask.run(FutureTask.java:264)\n",
      "\tat java.base/java.lang.Thread.run(Thread.java:834)\n"
     ]
    },
    {
     "data": {
      "text/plain": [
       "null"
      ]
     },
     "execution_count": 65,
     "metadata": {},
     "output_type": "execute_result"
    }
   ],
   "source": [
    "String[] args = {\"hello\", \"world\"};\n",
    "\n",
    "try {\n",
    "    System.out.println(args[3]);\n",
    "} catch(ArrayIndexOutOfBoundsException e) {\n",
    "    // System.out.println(\"메롱@!\");\n",
    "    e.printStackTrace();\n",
    "}"
   ]
  },
  {
   "cell_type": "code",
   "execution_count": null,
   "metadata": {},
   "outputs": [],
   "source": []
  }
 ],
 "metadata": {
  "kernelspec": {
   "display_name": "Java",
   "language": "java",
   "name": "java"
  },
  "language_info": {
   "codemirror_mode": "text/x-java",
   "file_extension": ".java",
   "mimetype": "",
   "name": "Java",
   "nbconverter_exporter": "",
   "version": "11.0.1"
  },
  "toc": {
   "base_numbering": 1,
   "nav_menu": {},
   "number_sections": false,
   "sideBar": false,
   "skip_h1_title": false,
   "title_cell": "Table of Contents",
   "title_sidebar": "Contents",
   "toc_cell": false,
   "toc_position": {},
   "toc_section_display": false,
   "toc_window_display": false
  }
 },
 "nbformat": 4,
 "nbformat_minor": 2
}
