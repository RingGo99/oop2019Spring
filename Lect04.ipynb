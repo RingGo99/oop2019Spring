{
 "cells": [
  {
   "cell_type": "markdown",
   "metadata": {},
   "source": [
    "## 배열 초기화"
   ]
  },
  {
   "cell_type": "code",
   "execution_count": 4,
   "metadata": {},
   "outputs": [
    {
     "name": "stdout",
     "output_type": "stream",
     "text": [
      "안녕\n",
      "내\n",
      "이름은\n",
      "안기영\n"
     ]
    },
    {
     "data": {
      "text/plain": [
       "null"
      ]
     },
     "execution_count": 4,
     "metadata": {},
     "output_type": "execute_result"
    }
   ],
   "source": [
    "String stringArray[] = { \"안녕\", \"내\", \"이름은\", \"안기영\" };\n",
    "\n",
    "for (String str : stringArray) {\n",
    "    System.out.println(str);\n",
    "}"
   ]
  },
  {
   "cell_type": "code",
   "execution_count": 5,
   "metadata": {},
   "outputs": [
    {
     "data": {
      "text/plain": [
       "1"
      ]
     },
     "execution_count": 5,
     "metadata": {},
     "output_type": "execute_result"
    }
   ],
   "source": [
    "int a;\n",
    "// 다른 거 하다가\n",
    "a = 1;\n",
    "return a;"
   ]
  },
  {
   "cell_type": "code",
   "execution_count": 10,
   "metadata": {},
   "outputs": [
    {
     "name": "stdout",
     "output_type": "stream",
     "text": [
      "안녕\n",
      "하세요\n",
      "식사는\n",
      "하셨나요\n"
     ]
    },
    {
     "data": {
      "text/plain": [
       "null"
      ]
     },
     "execution_count": 10,
     "metadata": {},
     "output_type": "execute_result"
    }
   ],
   "source": [
    "String arr[] = new String[4];\n",
    "\n",
    "// 다른 거 하다가\n",
    "\n",
    "arr[0] = \"안녕\";\n",
    "arr[1] = \"하세요\";\n",
    "arr[2] = \"식사는\";\n",
    "arr[3] = \"하셨나요\";\n",
    "\n",
    "for (String s : arr) {\n",
    "    System.out.println(s);\n",
    "}"
   ]
  },
  {
   "cell_type": "markdown",
   "metadata": {},
   "source": [
    "## 상속, 오버라이딩"
   ]
  },
  {
   "cell_type": "code",
   "execution_count": 39,
   "metadata": {},
   "outputs": [
    {
     "data": {
      "text/plain": [
       "com.twosigma.beaker.javash.bkrbfb16234.Weapon"
      ]
     },
     "execution_count": 39,
     "metadata": {},
     "output_type": "execute_result"
    }
   ],
   "source": [
    "class Weapon { // 무기 상위 클래스\n",
    "    public static String className() { return \"Weapon\"; }\n",
    "    void attack() {\n",
    "        damage(); // 대미지 함수 호출\n",
    "    }\n",
    "    int damage() {\n",
    "        return 0;\n",
    "    }\n",
    "}"
   ]
  },
  {
   "cell_type": "code",
   "execution_count": 12,
   "metadata": {},
   "outputs": [
    {
     "data": {
      "text/plain": [
       "com.twosigma.beaker.javash.bkrbfb16234.Sword"
      ]
     },
     "execution_count": 12,
     "metadata": {},
     "output_type": "execute_result"
    }
   ],
   "source": [
    "// Weapen 클래스를 상속받아 Sword 클래스 정의\n",
    "class Sword extends Weapon { // 칼 종류 무기 하위 클래스\n",
    "    public static String className() { return \"Sword\"; }\n",
    "    private void effectSword() { System.out.println(\"써거덩\"); }\n",
    "    void attack() {\n",
    "        effectSword();\n",
    "        damage();\n",
    "    }\n",
    "    int damage() { return 10; } // 메소드 오버라이딩\n",
    "}\n",
    "// Weapen 클래스를 상속받아 Gun 클래스 정의\n",
    "class Gun extends Weapon { // 총 종류 무기 하위 클래스\n",
    "    public static String className() { return \"Gun\"; }\n",
    "    private void effectGun() { System.out.println(\"탕탕탕\"); }\n",
    "    void attack() {\n",
    "        effectGun();\n",
    "        damage();\n",
    "    }\n",
    "    int damage() { return 50; }\n",
    "}"
   ]
  },
  {
   "cell_type": "code",
   "execution_count": 15,
   "metadata": {},
   "outputs": [
    {
     "name": "stdout",
     "output_type": "stream",
     "text": [
      "써거덩\n",
      "탕탕탕\n",
      "써거덩\n",
      "써거덩\n"
     ]
    },
    {
     "data": {
      "text/plain": [
       "null"
      ]
     },
     "execution_count": 15,
     "metadata": {},
     "output_type": "execute_result"
    }
   ],
   "source": [
    "Weapon warr[] = {new Sword(),new Gun(),new Sword(),new Sword()};\n",
    "\n",
    "for (Weapon w : warr) {\n",
    "    w.attack();\n",
    "}"
   ]
  },
  {
   "cell_type": "markdown",
   "metadata": {},
   "source": [
    "# 21 클래스, 인스턴스\n",
    "\n",
    "new로 만든 것이 클래스의 인스턴스."
   ]
  },
  {
   "cell_type": "code",
   "execution_count": 22,
   "metadata": {},
   "outputs": [
    {
     "name": "stdout",
     "output_type": "stream",
     "text": [
      "Hello\n",
      "Hello\n"
     ]
    },
    {
     "data": {
      "text/plain": [
       "true"
      ]
     },
     "execution_count": 22,
     "metadata": {},
     "output_type": "execute_result"
    }
   ],
   "source": [
    "String a1 = new String(\"Hello\");\n",
    "String a2 = a1;\n",
    "System.out.println(a1);\n",
    "System.out.println(a2);\n",
    "return a1 == a2;"
   ]
  },
  {
   "cell_type": "code",
   "execution_count": 21,
   "metadata": {},
   "outputs": [
    {
     "name": "stdout",
     "output_type": "stream",
     "text": [
      "Hello\n",
      "Hello\n"
     ]
    },
    {
     "data": {
      "text/plain": [
       "false"
      ]
     },
     "execution_count": 21,
     "metadata": {},
     "output_type": "execute_result"
    }
   ],
   "source": [
    "String a1 = new String(\"Hello\");\n",
    "String a2 = new String(a1);\n",
    "System.out.println(a1);\n",
    "System.out.println(a2);\n",
    "return a1 == a2;"
   ]
  },
  {
   "cell_type": "markdown",
   "metadata": {},
   "source": [
    "클래스 안에 메소드 말고 변수도 정의할 수 있다.\n",
    "\n",
    "예를 들어 C같은 경우에 struct { int x; int y; }; 이런 식으로 여러 종류의 변수를 하나로 묶어놓는데 Java의 클래스도 기본적으로 이런 기능이 있다.\n",
    "\n",
    "중고등학교 수학 복습:\n",
    "$i^{2}= -1$이 되는 허수 $i$와 실수를 함께 가지고 있는 것이 복소수다.\n",
    "\n",
    "실수 $0$, $1/3$, $\\sqrt{3}$ 복소수 형태로 굳이 쓰면\n",
    "$0+0i$, $1/3 + 0i$. $\\sqrt{3}+0i$.\n",
    "\n",
    "실수부와 허수부가 둘다 있는 복소수는 예를 들면 $4-3i$"
   ]
  },
  {
   "cell_type": "code",
   "execution_count": 38,
   "metadata": {},
   "outputs": [
    {
     "data": {
      "text/plain": [
       "com.twosigma.beaker.javash.bkrbfb16234.Complex"
      ]
     },
     "execution_count": 38,
     "metadata": {},
     "output_type": "execute_result"
    }
   ],
   "source": [
    "import java.lang.Math;\n",
    "\n",
    "// 복소수가 영어로 complex number 이므로\n",
    "class Complex {\n",
    "    public static String className() { return \"Complex\"; }\n",
    "    \n",
    "    // 인스턴스 변수 (멤버 변수)\n",
    "    private double real; // 실수부\n",
    "    private double imag; // 허수부\n",
    "    \n",
    "    // getter 함수 (멤버 변수 값 읽기 용도)\n",
    "    public double re() { return real; }\n",
    "    public double im() { return imag; }\n",
    "    // setter 함수 (멤버 변수 값 변경 용도)\n",
    "    public void setRe(double re) { real = re; }\n",
    "    public void setIm(double im) { imag = im; }\n",
    "    \n",
    "    public double abs() {\n",
    "        return java.lang.Math.sqrt(real*real + imag*imag);\n",
    "    }\n",
    "}"
   ]
  },
  {
   "cell_type": "code",
   "execution_count": 40,
   "metadata": {},
   "outputs": [
    {
     "name": "stdout",
     "output_type": "stream",
     "text": [
      "0.0\n",
      "5.0\n"
     ]
    },
    {
     "data": {
      "text/plain": [
       "null"
      ]
     },
     "execution_count": 40,
     "metadata": {},
     "output_type": "execute_result"
    }
   ],
   "source": [
    "Complex c = new Complex();\n",
    "\n",
    "System.out.println(c.abs());\n",
    "\n",
    "// c.real = 3;\n",
    "// c.imag = -4;\n",
    "c.setRe(3);\n",
    "c.setIm(-4);\n",
    "\n",
    "System.out.println(c.abs());"
   ]
  },
  {
   "cell_type": "code",
   "execution_count": 45,
   "metadata": {},
   "outputs": [
    {
     "name": "stdout",
     "output_type": "stream",
     "text": [
      "Weapon\n",
      "Weapon\n",
      "Weapon\n",
      "Complex\n"
     ]
    },
    {
     "data": {
      "text/plain": [
       "null"
      ]
     },
     "execution_count": 45,
     "metadata": {},
     "output_type": "execute_result"
    }
   ],
   "source": [
    "// static 변수나 메소드는 new로 만든 인스턴스 없이도 사용 가능\n",
    "System.out.println( Weapon.className() );\n",
    "System.out.println( Gun.className() );\n",
    "System.out.println( Sword.className() );\n",
    "System.out.println( Complex.className() );"
   ]
  },
  {
   "cell_type": "code",
   "execution_count": 46,
   "metadata": {},
   "outputs": [
    {
     "ename": "non-static method abs() cannot be referenced from a static context",
     "evalue": "non-static method abs() cannot be referenced from a static context",
     "output_type": "error",
     "traceback": [
      "\u001b[1;31mnon-static method abs() cannot be referenced from a static context\u001b[0;0m",
      "\u001b[1;31m Complex.abs()\u001b[0;0m",
      "\u001b[1;31m ^          ^   \u001b[0;0m"
     ]
    }
   ],
   "source": [
    "// 인스턴스 변수나 메소드 (static 안붙은 것들) 이거는 안된다\n",
    "Complex.abs();"
   ]
  },
  {
   "cell_type": "code",
   "execution_count": 50,
   "metadata": {},
   "outputs": [
    {
     "data": {
      "text/plain": [
       "0.0"
      ]
     },
     "execution_count": 50,
     "metadata": {},
     "output_type": "execute_result"
    }
   ],
   "source": [
    "// Complex c = new Complex();\n",
    "// c.abs();\n",
    "return new Complex().abs();"
   ]
  },
  {
   "cell_type": "code",
   "execution_count": 53,
   "metadata": {},
   "outputs": [
    {
     "data": {
      "text/plain": [
       "0.0"
      ]
     },
     "execution_count": 53,
     "metadata": {},
     "output_type": "execute_result"
    }
   ],
   "source": [
    "Complex c = new Complex();\n",
    "return c.abs();"
   ]
  },
  {
   "cell_type": "code",
   "execution_count": null,
   "metadata": {},
   "outputs": [],
   "source": []
  }
 ],
 "metadata": {
  "kernelspec": {
   "display_name": "Java",
   "language": "java",
   "name": "java"
  },
  "language_info": {
   "codemirror_mode": "text/x-java",
   "file_extension": ".java",
   "mimetype": "",
   "name": "Java",
   "nbconverter_exporter": "",
   "version": "11.0.1"
  },
  "toc": {
   "base_numbering": 1,
   "nav_menu": {},
   "number_sections": false,
   "sideBar": false,
   "skip_h1_title": false,
   "title_cell": "Table of Contents",
   "title_sidebar": "Contents",
   "toc_cell": false,
   "toc_position": {},
   "toc_section_display": false,
   "toc_window_display": false
  }
 },
 "nbformat": 4,
 "nbformat_minor": 2
}
